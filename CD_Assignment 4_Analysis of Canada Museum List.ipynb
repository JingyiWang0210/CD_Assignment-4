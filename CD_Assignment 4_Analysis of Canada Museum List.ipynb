{
 "cells": [
  {
   "cell_type": "code",
   "execution_count": 17,
   "metadata": {},
   "outputs": [],
   "source": [
    "#Import Pandas\n",
    "import pandas as pd"
   ]
  },
  {
   "cell_type": "code",
   "execution_count": 18,
   "metadata": {},
   "outputs": [],
   "source": [
    "#Change display settings\n",
    "pd.options.display.max_rows = 200"
   ]
  },
  {
   "cell_type": "code",
   "execution_count": 19,
   "metadata": {},
   "outputs": [],
   "source": [
    "#Get data: a CSV file of Canada Museum List\n",
    "museum_df = pd.read_csv(r'C:\\Users\\ASUS\\Desktop\\Canada Museum List.csv', delimiter=\",\", encoding='ISO-8859-1')"
   ]
  },
  {
   "cell_type": "code",
   "execution_count": 20,
   "metadata": {},
   "outputs": [
    {
     "data": {
      "text/html": [
       "<div>\n",
       "<style scoped>\n",
       "    .dataframe tbody tr th:only-of-type {\n",
       "        vertical-align: middle;\n",
       "    }\n",
       "\n",
       "    .dataframe tbody tr th {\n",
       "        vertical-align: top;\n",
       "    }\n",
       "\n",
       "    .dataframe thead th {\n",
       "        text-align: right;\n",
       "    }\n",
       "</style>\n",
       "<table border=\"1\" class=\"dataframe\">\n",
       "  <thead>\n",
       "    <tr style=\"text-align: right;\">\n",
       "      <th></th>\n",
       "      <th>Name</th>\n",
       "      <th>Street Address</th>\n",
       "      <th>City</th>\n",
       "      <th>State</th>\n",
       "      <th>Zipcode</th>\n",
       "      <th>Latitude</th>\n",
       "      <th>Longitude</th>\n",
       "      <th>Category</th>\n",
       "    </tr>\n",
       "  </thead>\n",
       "  <tbody>\n",
       "    <tr>\n",
       "      <th>3629</th>\n",
       "      <td>Atelier-Galerie Pierre-Gilles Martin Et Carole...</td>\n",
       "      <td>90 Rue St-Jean Baptiste</td>\n",
       "      <td>Baie Saint Paul</td>\n",
       "      <td>QC</td>\n",
       "      <td>G3Z 1M6</td>\n",
       "      <td>47.443767</td>\n",
       "      <td>-70.508071</td>\n",
       "      <td>gallery</td>\n",
       "    </tr>\n",
       "    <tr>\n",
       "      <th>3978</th>\n",
       "      <td>Mus¨¦e D'Art Contemporain De Montr¨¦al</td>\n",
       "      <td>185 Rue Sainte-Catherine Ouest</td>\n",
       "      <td>Montr¨¦al</td>\n",
       "      <td>QC</td>\n",
       "      <td>H2X 3X5</td>\n",
       "      <td>45.507828</td>\n",
       "      <td>-73.566790</td>\n",
       "      <td>museum</td>\n",
       "    </tr>\n",
       "    <tr>\n",
       "      <th>2015</th>\n",
       "      <td>Theatre North West Society</td>\n",
       "      <td>556 Nechako Rd North</td>\n",
       "      <td>Prince George</td>\n",
       "      <td>BC</td>\n",
       "      <td>NaN</td>\n",
       "      <td>53.931093</td>\n",
       "      <td>-122.781391</td>\n",
       "      <td>theatre/performance and concert hall</td>\n",
       "    </tr>\n",
       "    <tr>\n",
       "      <th>84</th>\n",
       "      <td>Coll¨¨ge Saint-Alexandre</td>\n",
       "      <td>2425 Rue Saint-Louis</td>\n",
       "      <td>Gatineau</td>\n",
       "      <td>QC</td>\n",
       "      <td>NaN</td>\n",
       "      <td>45.490859</td>\n",
       "      <td>-75.750338</td>\n",
       "      <td>heritage or historic site</td>\n",
       "    </tr>\n",
       "    <tr>\n",
       "      <th>4082</th>\n",
       "      <td>Proof Studio Gallery</td>\n",
       "      <td>55 Mill St</td>\n",
       "      <td>Toronto</td>\n",
       "      <td>ON</td>\n",
       "      <td>M5A 3C4</td>\n",
       "      <td>43.650639</td>\n",
       "      <td>-79.359662</td>\n",
       "      <td>gallery</td>\n",
       "    </tr>\n",
       "    <tr>\n",
       "      <th>4262</th>\n",
       "      <td>Edmonton Power Historical Foundation</td>\n",
       "      <td>10065 Jasper Avenue</td>\n",
       "      <td>Edmonton</td>\n",
       "      <td>AB</td>\n",
       "      <td>T5J 3B1</td>\n",
       "      <td>53.541584</td>\n",
       "      <td>-113.492740</td>\n",
       "      <td>heritage or historic site</td>\n",
       "    </tr>\n",
       "    <tr>\n",
       "      <th>730</th>\n",
       "      <td>Forest Lawn Library</td>\n",
       "      <td>4807 8 Av Se</td>\n",
       "      <td>Calgary</td>\n",
       "      <td>AB</td>\n",
       "      <td>T2A 4M1</td>\n",
       "      <td>51.045105</td>\n",
       "      <td>-113.965202</td>\n",
       "      <td>library or archives</td>\n",
       "    </tr>\n",
       "    <tr>\n",
       "      <th>215</th>\n",
       "      <td>Argenteuil Regional Museum</td>\n",
       "      <td>44 Route Du-Long Sault</td>\n",
       "      <td>Saint Andr¨¦ d'Argenteuil</td>\n",
       "      <td>QC</td>\n",
       "      <td>J0V 1X0</td>\n",
       "      <td>45.565124</td>\n",
       "      <td>-74.371852</td>\n",
       "      <td>museum</td>\n",
       "    </tr>\n",
       "    <tr>\n",
       "      <th>2753</th>\n",
       "      <td>Bibliotheque Municipale De Saint-Honore-De-Chi...</td>\n",
       "      <td>100 Rue Paul</td>\n",
       "      <td>Saint Honor¨¦</td>\n",
       "      <td>QC</td>\n",
       "      <td>G0V 1L0</td>\n",
       "      <td>48.535137</td>\n",
       "      <td>-71.085517</td>\n",
       "      <td>library or archives</td>\n",
       "    </tr>\n",
       "    <tr>\n",
       "      <th>5290</th>\n",
       "      <td>Bibliotheque Saint-Lazare</td>\n",
       "      <td>1275 Rue Du-Bois</td>\n",
       "      <td>Saint Lazare</td>\n",
       "      <td>QC</td>\n",
       "      <td>J7T 3E6</td>\n",
       "      <td>45.395300</td>\n",
       "      <td>-74.141954</td>\n",
       "      <td>library or archives</td>\n",
       "    </tr>\n",
       "  </tbody>\n",
       "</table>\n",
       "</div>"
      ],
      "text/plain": [
       "                                                   Name  \\\n",
       "3629  Atelier-Galerie Pierre-Gilles Martin Et Carole...   \n",
       "3978             Mus¨¦e D'Art Contemporain De Montr¨¦al   \n",
       "2015                         Theatre North West Society   \n",
       "84                             Coll¨¨ge Saint-Alexandre   \n",
       "4082                               Proof Studio Gallery   \n",
       "4262               Edmonton Power Historical Foundation   \n",
       "730                                 Forest Lawn Library   \n",
       "215                          Argenteuil Regional Museum   \n",
       "2753  Bibliotheque Municipale De Saint-Honore-De-Chi...   \n",
       "5290                          Bibliotheque Saint-Lazare   \n",
       "\n",
       "                      Street Address                       City State  \\\n",
       "3629         90 Rue St-Jean Baptiste            Baie Saint Paul    QC   \n",
       "3978  185 Rue Sainte-Catherine Ouest                  Montr¨¦al    QC   \n",
       "2015            556 Nechako Rd North              Prince George    BC   \n",
       "84              2425 Rue Saint-Louis                   Gatineau    QC   \n",
       "4082                      55 Mill St                    Toronto    ON   \n",
       "4262             10065 Jasper Avenue                   Edmonton    AB   \n",
       "730                     4807 8 Av Se                    Calgary    AB   \n",
       "215           44 Route Du-Long Sault  Saint Andr¨¦ d'Argenteuil    QC   \n",
       "2753                    100 Rue Paul              Saint Honor¨¦    QC   \n",
       "5290                1275 Rue Du-Bois               Saint Lazare    QC   \n",
       "\n",
       "      Zipcode   Latitude   Longitude                              Category  \n",
       "3629  G3Z 1M6  47.443767  -70.508071                               gallery  \n",
       "3978  H2X 3X5  45.507828  -73.566790                                museum  \n",
       "2015      NaN  53.931093 -122.781391  theatre/performance and concert hall  \n",
       "84        NaN  45.490859  -75.750338             heritage or historic site  \n",
       "4082  M5A 3C4  43.650639  -79.359662                               gallery  \n",
       "4262  T5J 3B1  53.541584 -113.492740             heritage or historic site  \n",
       "730   T2A 4M1  51.045105 -113.965202                   library or archives  \n",
       "215   J0V 1X0  45.565124  -74.371852                                museum  \n",
       "2753  G0V 1L0  48.535137  -71.085517                   library or archives  \n",
       "5290  J7T 3E6  45.395300  -74.141954                   library or archives  "
      ]
     },
     "execution_count": 20,
     "metadata": {},
     "output_type": "execute_result"
    }
   ],
   "source": [
    "#Overview of the dataset\n",
    "museum_df.sample(10)"
   ]
  },
  {
   "cell_type": "code",
   "execution_count": 21,
   "metadata": {},
   "outputs": [
    {
     "name": "stdout",
     "output_type": "stream",
     "text": [
      "<class 'pandas.core.frame.DataFrame'>\n",
      "RangeIndex: 5442 entries, 0 to 5441\n",
      "Data columns (total 8 columns):\n",
      " #   Column          Non-Null Count  Dtype  \n",
      "---  ------          --------------  -----  \n",
      " 0   Name            5442 non-null   object \n",
      " 1   Street Address  5442 non-null   object \n",
      " 2   City            5442 non-null   object \n",
      " 3   State           5442 non-null   object \n",
      " 4   Zipcode         4639 non-null   object \n",
      " 5   Latitude        5442 non-null   float64\n",
      " 6   Longitude       5442 non-null   float64\n",
      " 7   Category        5442 non-null   object \n",
      "dtypes: float64(2), object(6)\n",
      "memory usage: 340.3+ KB\n"
     ]
    }
   ],
   "source": [
    "#Generate information about all the columns in the data\n",
    "museum_df.info()"
   ]
  },
  {
   "cell_type": "code",
   "execution_count": 22,
   "metadata": {},
   "outputs": [],
   "source": [
    "#Delete the \"Latitude\" and \"Longitude\" columns\n",
    "museum_df.drop(['Latitude', 'Longitude'], axis=1, inplace=True)"
   ]
  },
  {
   "cell_type": "markdown",
   "metadata": {},
   "source": [
    "# Question 1:How many museums are there in the states of Canada and how are they distributed? #"
   ]
  },
  {
   "cell_type": "code",
   "execution_count": 23,
   "metadata": {},
   "outputs": [
    {
     "name": "stdout",
     "output_type": "stream",
     "text": [
      "Total number of museums in Canada: 5442\n"
     ]
    }
   ],
   "source": [
    "#Count all the museums in Canada\n",
    "total_museums_in_canada = len(museum_df)\n",
    "print(\"Total number of museums in Canada:\", total_museums_in_canada)"
   ]
  },
  {
   "cell_type": "code",
   "execution_count": 24,
   "metadata": {},
   "outputs": [
    {
     "name": "stdout",
     "output_type": "stream",
     "text": [
      "QC    1781\n",
      "ON    1614\n",
      "BC     777\n",
      "AB     390\n",
      "NB     273\n",
      "NS     212\n",
      "MB     167\n",
      "SK     145\n",
      "NL      53\n",
      "PE      19\n",
      "YT       7\n",
      "NT       3\n",
      "NU       1\n",
      "Name: State, dtype: int64\n"
     ]
    }
   ],
   "source": [
    "#Count the museum number of each state\n",
    "state_museum_count = museum_df['State'].value_counts()\n",
    "print(state_museum_count)"
   ]
  },
  {
   "cell_type": "code",
   "execution_count": 25,
   "metadata": {},
   "outputs": [
    {
     "name": "stdout",
     "output_type": "stream",
     "text": [
      "Requirement already satisfied: matplotlib in c:\\users\\asus\\creative cloud files\\lib\\site-packages (3.7.1)\n",
      "Requirement already satisfied: contourpy>=1.0.1 in c:\\users\\asus\\creative cloud files\\lib\\site-packages (from matplotlib) (1.0.5)\n",
      "Requirement already satisfied: cycler>=0.10 in c:\\users\\asus\\creative cloud files\\lib\\site-packages (from matplotlib) (0.11.0)\n",
      "Requirement already satisfied: fonttools>=4.22.0 in c:\\users\\asus\\creative cloud files\\lib\\site-packages (from matplotlib) (4.25.0)\n",
      "Requirement already satisfied: kiwisolver>=1.0.1 in c:\\users\\asus\\creative cloud files\\lib\\site-packages (from matplotlib) (1.4.4)\n",
      "Requirement already satisfied: numpy>=1.20 in c:\\users\\asus\\creative cloud files\\lib\\site-packages (from matplotlib) (1.24.3)\n",
      "Requirement already satisfied: packaging>=20.0 in c:\\users\\asus\\creative cloud files\\lib\\site-packages (from matplotlib) (23.0)\n",
      "Requirement already satisfied: pillow>=6.2.0 in c:\\users\\asus\\creative cloud files\\lib\\site-packages (from matplotlib) (9.4.0)\n",
      "Requirement already satisfied: pyparsing>=2.3.1 in c:\\users\\asus\\creative cloud files\\lib\\site-packages (from matplotlib) (3.0.9)\n",
      "Requirement already satisfied: python-dateutil>=2.7 in c:\\users\\asus\\creative cloud files\\lib\\site-packages (from matplotlib) (2.8.2)\n",
      "Requirement already satisfied: six>=1.5 in c:\\users\\asus\\creative cloud files\\lib\\site-packages (from python-dateutil>=2.7->matplotlib) (1.16.0)\n"
     ]
    }
   ],
   "source": [
    "#Install matplotlib\n",
    "!pip install matplotlib"
   ]
  },
  {
   "cell_type": "code",
   "execution_count": 26,
   "metadata": {
    "scrolled": true
   },
   "outputs": [
    {
     "data": {
      "image/png": "[encoded data removed]",
      "text/plain": [
       "<Figure size 600x300 with 1 Axes>"
      ]
     },
     "metadata": {},
     "output_type": "display_data"
    }
   ],
   "source": [
    "#Visualize the result with a bar plot \n",
    "import matplotlib.pyplot as plt\n",
    "\n",
    "plt.figure(figsize=(6, 3))\n",
    "state_museum_count.plot(kind='bar', color='purple')\n",
    "plt.title('Number of Museums in Each State of Canada')\n",
    "plt.xlabel('State')\n",
    "plt.ylabel('Museum Number')\n",
    "plt.show()"
   ]
  },
  {
   "cell_type": "markdown",
   "metadata": {},
   "source": [
    "# Question 2: Which category of museums has the largest number and what about the distribution?"
   ]
  },
  {
   "cell_type": "code",
   "execution_count": 27,
   "metadata": {
    "scrolled": true
   },
   "outputs": [
    {
     "name": "stdout",
     "output_type": "stream",
     "text": [
      "library or archives                     1979\n",
      "museum                                  1326\n",
      "gallery                                  743\n",
      "theatre/performance and concert hall     457\n",
      "heritage or historic site                439\n",
      "festival site                            275\n",
      "art or cultural centre                   161\n",
      "artist                                    62\n",
      "Name: Category, dtype: int64\n"
     ]
    }
   ],
   "source": [
    "#Count the number of each category\n",
    "category_counts = museum_df['Category'].value_counts()\n",
    "print(category_counts)"
   ]
  },
  {
   "cell_type": "code",
   "execution_count": 28,
   "metadata": {},
   "outputs": [
    {
     "name": "stdout",
     "output_type": "stream",
     "text": [
      "The category of museums with the largest number is: library or archives\n"
     ]
    }
   ],
   "source": [
    "#Find the most numerous category\n",
    "most_common_category = category_counts.idxmax()\n",
    "print(f\"The category of museums with the largest number is: {most_common_category}\")"
   ]
  },
  {
   "cell_type": "code",
   "execution_count": 29,
   "metadata": {},
   "outputs": [],
   "source": [
    "#Count the number of each category in each state\n",
    "category_state_counts = museum_df.groupby(['State', 'Category']).size().reset_index(name='Numbers')"
   ]
  },
  {
   "cell_type": "code",
   "execution_count": 30,
   "metadata": {
    "scrolled": true
   },
   "outputs": [
    {
     "data": {
      "image/png": "[encoded data removed]",
      "text/plain": [
       "<Figure size 800x500 with 1 Axes>"
      ]
     },
     "metadata": {},
     "output_type": "display_data"
    }
   ],
   "source": [
    "#Draw the bar plot\n",
    "import seaborn as sns\n",
    "plt.figure(figsize=(8, 5))\n",
    "sns.barplot(x='State', y='Numbers', hue='Category', data=category_state_counts)\n",
    "\n",
    "plt.title('Museum Numbers by State and Category')\n",
    "plt.xlabel('State')\n",
    "plt.ylabel('Numbers')\n",
    "plt.legend(title='Category', loc='upper right')\n",
    "plt.show()"
   ]
  }
 ],
 "metadata": {
  "kernelspec": {
   "display_name": "Python 3 (ipykernel)",
   "language": "python",
   "name": "python3"
  },
  "language_info": {
   "codemirror_mode": {
    "name": "ipython",
    "version": 3
   },
   "file_extension": ".py",
   "mimetype": "text/x-python",
   "name": "python",
   "nbconvert_exporter": "python",
   "pygments_lexer": "ipython3",
   "version": "3.11.4"
  },
  "toc": {
   "base_numbering": 1,
   "nav_menu": {},
   "number_sections": true,
   "sideBar": true,
   "skip_h1_title": false,
   "title_cell": "Table of Contents",
   "title_sidebar": "Contents",
   "toc_cell": false,
   "toc_position": {},
   "toc_section_display": true,
   "toc_window_display": false
  },
  "varInspector": {
   "cols": {
    "lenName": 16,
    "lenType": 16,
    "lenVar": 40
   },
   "kernels_config": {
    "python": {
     "delete_cmd_postfix": "",
     "delete_cmd_prefix": "del ",
     "library": "var_list.py",
     "varRefreshCmd": "print(var_dic_list())"
    },
    "r": {
     "delete_cmd_postfix": ") ",
     "delete_cmd_prefix": "rm(",
     "library": "var_list.r",
     "varRefreshCmd": "cat(var_dic_list()) "
    }
   },
   "types_to_exclude": [
    "module",
    "function",
    "builtin_function_or_method",
    "instance",
    "_Feature"
   ],
   "window_display": false
  }
 },
 "nbformat": 4,
 "nbformat_minor": 4
}
