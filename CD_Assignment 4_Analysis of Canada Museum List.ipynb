{
 "cells": [
  {
   "cell_type": "code",
   "execution_count": 64,
   "metadata": {},
   "outputs": [],
   "source": [
    "#Import Pandas\n",
    "import pandas as pd"
   ]
  },
  {
   "cell_type": "code",
   "execution_count": 65,
   "metadata": {},
   "outputs": [],
   "source": [
    "#Change display settings\n",
    "pd.options.display.max_rows = 200"
   ]
  },
  {
   "cell_type": "code",
   "execution_count": 66,
   "metadata": {},
   "outputs": [],
   "source": [
    "#Get data: a CSV file of Canada Museum List\n",
    "museum_df = pd.read_csv(r'C:\\Users\\ASUS\\Desktop\\Canada Museum List.csv', delimiter=\",\", encoding='ISO-8859-1')"
   ]
  },
  {
   "cell_type": "code",
   "execution_count": 67,
   "metadata": {},
   "outputs": [
    {
     "data": {
      "text/html": [
       "<div>\n",
       "<style scoped>\n",
       "    .dataframe tbody tr th:only-of-type {\n",
       "        vertical-align: middle;\n",
       "    }\n",
       "\n",
       "    .dataframe tbody tr th {\n",
       "        vertical-align: top;\n",
       "    }\n",
       "\n",
       "    .dataframe thead th {\n",
       "        text-align: right;\n",
       "    }\n",
       "</style>\n",
       "<table border=\"1\" class=\"dataframe\">\n",
       "  <thead>\n",
       "    <tr style=\"text-align: right;\">\n",
       "      <th></th>\n",
       "      <th>Name</th>\n",
       "      <th>Street Address</th>\n",
       "      <th>City</th>\n",
       "      <th>State</th>\n",
       "      <th>Zipcode</th>\n",
       "      <th>Latitude</th>\n",
       "      <th>Longitude</th>\n",
       "      <th>Category</th>\n",
       "    </tr>\n",
       "  </thead>\n",
       "  <tbody>\n",
       "    <tr>\n",
       "      <th>533</th>\n",
       "      <td>Gatineau Hot Air Balloon Festival</td>\n",
       "      <td>988 Rue St-Louis</td>\n",
       "      <td>Gatineau</td>\n",
       "      <td>QC</td>\n",
       "      <td>NaN</td>\n",
       "      <td>45.460168</td>\n",
       "      <td>-75.692570</td>\n",
       "      <td>festival site</td>\n",
       "    </tr>\n",
       "    <tr>\n",
       "      <th>2934</th>\n",
       "      <td>North Vancouver Museum &amp; Archives</td>\n",
       "      <td>3203 Institute Road</td>\n",
       "      <td>North Vancouver</td>\n",
       "      <td>BC</td>\n",
       "      <td>V7K 3E5</td>\n",
       "      <td>49.338013</td>\n",
       "      <td>-123.036634</td>\n",
       "      <td>museum</td>\n",
       "    </tr>\n",
       "    <tr>\n",
       "      <th>1085</th>\n",
       "      <td>Pinhey's Point Historic Site</td>\n",
       "      <td>270 Pinheys Rd</td>\n",
       "      <td>Ottawa</td>\n",
       "      <td>ON</td>\n",
       "      <td>K0A 1T0</td>\n",
       "      <td>45.440440</td>\n",
       "      <td>-75.953418</td>\n",
       "      <td>museum</td>\n",
       "    </tr>\n",
       "    <tr>\n",
       "      <th>580</th>\n",
       "      <td>Prince Rupert Fire Museum Society</td>\n",
       "      <td>200 1St Avenue West</td>\n",
       "      <td>Prince Rupert</td>\n",
       "      <td>BC</td>\n",
       "      <td>V8J 1A8</td>\n",
       "      <td>54.315552</td>\n",
       "      <td>-130.324831</td>\n",
       "      <td>museum</td>\n",
       "    </tr>\n",
       "    <tr>\n",
       "      <th>168</th>\n",
       "      <td>Biblioth¨¨que De Saint-Donat</td>\n",
       "      <td>510 Desrochers</td>\n",
       "      <td>Saint Donat</td>\n",
       "      <td>QC</td>\n",
       "      <td>J0T 2C0</td>\n",
       "      <td>46.319048</td>\n",
       "      <td>-74.219763</td>\n",
       "      <td>library or archives</td>\n",
       "    </tr>\n",
       "    <tr>\n",
       "      <th>2568</th>\n",
       "      <td>Montr¨¦al Bach Festival</td>\n",
       "      <td>1600 Rue St-Urbain</td>\n",
       "      <td>Montr¨¦al</td>\n",
       "      <td>QC</td>\n",
       "      <td>H2X 0S1</td>\n",
       "      <td>45.509352</td>\n",
       "      <td>-73.566824</td>\n",
       "      <td>festival site</td>\n",
       "    </tr>\n",
       "    <tr>\n",
       "      <th>4936</th>\n",
       "      <td>Buddies In Bad Times Theatre</td>\n",
       "      <td>12 Alexander St</td>\n",
       "      <td>Toronto</td>\n",
       "      <td>ON</td>\n",
       "      <td>M4Y 1B4</td>\n",
       "      <td>43.663319</td>\n",
       "      <td>-79.383066</td>\n",
       "      <td>theatre/performance and concert hall</td>\n",
       "    </tr>\n",
       "    <tr>\n",
       "      <th>547</th>\n",
       "      <td>Grande Coul¨¦e - Festival De Bi¨¨re</td>\n",
       "      <td>4380 Ch Du-Parc</td>\n",
       "      <td>Orford</td>\n",
       "      <td>QC</td>\n",
       "      <td>J1X 7N9</td>\n",
       "      <td>45.317642</td>\n",
       "      <td>-72.221274</td>\n",
       "      <td>festival site</td>\n",
       "    </tr>\n",
       "    <tr>\n",
       "      <th>896</th>\n",
       "      <td>Marine Museum of the Great Lakes</td>\n",
       "      <td>53 Yonge St</td>\n",
       "      <td>Kingston</td>\n",
       "      <td>ON</td>\n",
       "      <td>NaN</td>\n",
       "      <td>44.218669</td>\n",
       "      <td>-76.517614</td>\n",
       "      <td>museum</td>\n",
       "    </tr>\n",
       "    <tr>\n",
       "      <th>1079</th>\n",
       "      <td>Tiny Twp</td>\n",
       "      <td>130 Balm Road West</td>\n",
       "      <td>Tiny</td>\n",
       "      <td>ON</td>\n",
       "      <td>L0L 2J0</td>\n",
       "      <td>44.702578</td>\n",
       "      <td>-79.981132</td>\n",
       "      <td>library or archives</td>\n",
       "    </tr>\n",
       "  </tbody>\n",
       "</table>\n",
       "</div>"
      ],
      "text/plain": [
       "                                     Name       Street Address  \\\n",
       "533     Gatineau Hot Air Balloon Festival     988 Rue St-Louis   \n",
       "2934    North Vancouver Museum & Archives  3203 Institute Road   \n",
       "1085         Pinhey's Point Historic Site       270 Pinheys Rd   \n",
       "580     Prince Rupert Fire Museum Society  200 1St Avenue West   \n",
       "168          Biblioth¨¨que De Saint-Donat       510 Desrochers   \n",
       "2568              Montr¨¦al Bach Festival   1600 Rue St-Urbain   \n",
       "4936         Buddies In Bad Times Theatre      12 Alexander St   \n",
       "547   Grande Coul¨¦e - Festival De Bi¨¨re      4380 Ch Du-Parc   \n",
       "896      Marine Museum of the Great Lakes          53 Yonge St   \n",
       "1079                             Tiny Twp   130 Balm Road West   \n",
       "\n",
       "                 City State  Zipcode   Latitude   Longitude  \\\n",
       "533          Gatineau    QC      NaN  45.460168  -75.692570   \n",
       "2934  North Vancouver    BC  V7K 3E5  49.338013 -123.036634   \n",
       "1085           Ottawa    ON  K0A 1T0  45.440440  -75.953418   \n",
       "580     Prince Rupert    BC  V8J 1A8  54.315552 -130.324831   \n",
       "168       Saint Donat    QC  J0T 2C0  46.319048  -74.219763   \n",
       "2568        Montr¨¦al    QC  H2X 0S1  45.509352  -73.566824   \n",
       "4936          Toronto    ON  M4Y 1B4  43.663319  -79.383066   \n",
       "547            Orford    QC  J1X 7N9  45.317642  -72.221274   \n",
       "896          Kingston    ON      NaN  44.218669  -76.517614   \n",
       "1079             Tiny    ON  L0L 2J0  44.702578  -79.981132   \n",
       "\n",
       "                                  Category  \n",
       "533                          festival site  \n",
       "2934                                museum  \n",
       "1085                                museum  \n",
       "580                                 museum  \n",
       "168                    library or archives  \n",
       "2568                         festival site  \n",
       "4936  theatre/performance and concert hall  \n",
       "547                          festival site  \n",
       "896                                 museum  \n",
       "1079                   library or archives  "
      ]
     },
     "execution_count": 67,
     "metadata": {},
     "output_type": "execute_result"
    }
   ],
   "source": [
    "#Overview of the dataset\n",
    "museum_df.sample(10)"
   ]
  },
  {
   "cell_type": "code",
   "execution_count": 68,
   "metadata": {},
   "outputs": [
    {
     "name": "stdout",
     "output_type": "stream",
     "text": [
      "<class 'pandas.core.frame.DataFrame'>\n",
      "RangeIndex: 5442 entries, 0 to 5441\n",
      "Data columns (total 8 columns):\n",
      " #   Column          Non-Null Count  Dtype  \n",
      "---  ------          --------------  -----  \n",
      " 0   Name            5442 non-null   object \n",
      " 1   Street Address  5442 non-null   object \n",
      " 2   City            5442 non-null   object \n",
      " 3   State           5442 non-null   object \n",
      " 4   Zipcode         4639 non-null   object \n",
      " 5   Latitude        5442 non-null   float64\n",
      " 6   Longitude       5442 non-null   float64\n",
      " 7   Category        5442 non-null   object \n",
      "dtypes: float64(2), object(6)\n",
      "memory usage: 340.3+ KB\n"
     ]
    }
   ],
   "source": [
    "#Generate information about all the columns in the data\n",
    "museum_df.info()"
   ]
  },
  {
   "cell_type": "code",
   "execution_count": 69,
   "metadata": {},
   "outputs": [],
   "source": [
    "#Delete the \"Latitude\" and \"Longitude\" columns\n",
    "museum_df.drop(['Latitude', 'Longitude'], axis=1, inplace=True)"
   ]
  },
  {
   "cell_type": "markdown",
   "metadata": {},
   "source": [
    "# Question 1:How many museums are there in the states of Canada and how are they distributed? #"
   ]
  },
  {
   "cell_type": "code",
   "execution_count": 70,
   "metadata": {},
   "outputs": [
    {
     "name": "stdout",
     "output_type": "stream",
     "text": [
      "Total number of museums in Canada: 5442\n"
     ]
    }
   ],
   "source": [
    "#Count all the museums in Canada\n",
    "total_museums_in_canada = len(museum_df)\n",
    "print(\"Total number of museums in Canada:\", total_museums_in_canada)"
   ]
  },
  {
   "cell_type": "code",
   "execution_count": 71,
   "metadata": {},
   "outputs": [
    {
     "name": "stdout",
     "output_type": "stream",
     "text": [
      "QC    1781\n",
      "ON    1614\n",
      "BC     777\n",
      "AB     390\n",
      "NB     273\n",
      "NS     212\n",
      "MB     167\n",
      "SK     145\n",
      "NL      53\n",
      "PE      19\n",
      "YT       7\n",
      "NT       3\n",
      "NU       1\n",
      "Name: State, dtype: int64\n"
     ]
    }
   ],
   "source": [
    "#Count the museum number of each state\n",
    "state_museum_count = museum_df['State'].value_counts()\n",
    "print(state_museum_count)"
   ]
  },
  {
   "cell_type": "code",
   "execution_count": 72,
   "metadata": {},
   "outputs": [
    {
     "name": "stdout",
     "output_type": "stream",
     "text": [
      "Requirement already satisfied: matplotlib in c:\\users\\asus\\creative cloud files\\lib\\site-packages (3.7.1)\n",
      "Requirement already satisfied: contourpy>=1.0.1 in c:\\users\\asus\\creative cloud files\\lib\\site-packages (from matplotlib) (1.0.5)\n",
      "Requirement already satisfied: cycler>=0.10 in c:\\users\\asus\\creative cloud files\\lib\\site-packages (from matplotlib) (0.11.0)\n",
      "Requirement already satisfied: fonttools>=4.22.0 in c:\\users\\asus\\creative cloud files\\lib\\site-packages (from matplotlib) (4.25.0)\n",
      "Requirement already satisfied: kiwisolver>=1.0.1 in c:\\users\\asus\\creative cloud files\\lib\\site-packages (from matplotlib) (1.4.4)\n",
      "Requirement already satisfied: numpy>=1.20 in c:\\users\\asus\\creative cloud files\\lib\\site-packages (from matplotlib) (1.24.3)\n",
      "Requirement already satisfied: packaging>=20.0 in c:\\users\\asus\\creative cloud files\\lib\\site-packages (from matplotlib) (23.0)\n",
      "Requirement already satisfied: pillow>=6.2.0 in c:\\users\\asus\\creative cloud files\\lib\\site-packages (from matplotlib) (9.4.0)\n",
      "Requirement already satisfied: pyparsing>=2.3.1 in c:\\users\\asus\\creative cloud files\\lib\\site-packages (from matplotlib) (3.0.9)\n",
      "Requirement already satisfied: python-dateutil>=2.7 in c:\\users\\asus\\creative cloud files\\lib\\site-packages (from matplotlib) (2.8.2)\n",
      "Requirement already satisfied: six>=1.5 in c:\\users\\asus\\creative cloud files\\lib\\site-packages (from python-dateutil>=2.7->matplotlib) (1.16.0)\n"
     ]
    }
   ],
   "source": [
    "#Install matplotlib\n",
    "!pip install matplotlib"
   ]
  },
  {
   "cell_type": "code",
   "execution_count": 73,
   "metadata": {
    "scrolled": true
   },
   "outputs": [
    {
     "data": {
      "image/png": "[encoded data removed]",
      "text/plain": [
       "<Figure size 600x300 with 1 Axes>"
      ]
     },
     "metadata": {},
     "output_type": "display_data"
    }
   ],
   "source": [
    "#Visualize the result with a bar plot \n",
    "import matplotlib.pyplot as plt\n",
    "\n",
    "plt.figure(figsize=(6, 3))\n",
    "state_museum_count.plot(kind='bar', color='skyblue')\n",
    "plt.title('Number of Museums in Each State of Canada')\n",
    "plt.xlabel('State')\n",
    "plt.ylabel('Museum Number')\n",
    "plt.show()"
   ]
  },
  {
   "cell_type": "markdown",
   "metadata": {},
   "source": [
    "# Question 2: Which category of museums has the largest number and what about the distribution?"
   ]
  },
  {
   "cell_type": "code",
   "execution_count": 74,
   "metadata": {
    "scrolled": true
   },
   "outputs": [
    {
     "name": "stdout",
     "output_type": "stream",
     "text": [
      "library or archives                     1979\n",
      "museum                                  1326\n",
      "gallery                                  743\n",
      "theatre/performance and concert hall     457\n",
      "heritage or historic site                439\n",
      "festival site                            275\n",
      "art or cultural centre                   161\n",
      "artist                                    62\n",
      "Name: Category, dtype: int64\n"
     ]
    }
   ],
   "source": [
    "#Count the number of each category\n",
    "category_counts = museum_df['Category'].value_counts()\n",
    "print(category_counts)"
   ]
  },
  {
   "cell_type": "code",
   "execution_count": 75,
   "metadata": {},
   "outputs": [
    {
     "name": "stdout",
     "output_type": "stream",
     "text": [
      "The category of museums with the largest number is: library or archives\n"
     ]
    }
   ],
   "source": [
    "#Find the most numerous category\n",
    "most_common_category = category_counts.idxmax()\n",
    "print(f\"The category of museums with the largest number is: {most_common_category}\")"
   ]
  },
  {
   "cell_type": "code",
   "execution_count": 76,
   "metadata": {},
   "outputs": [],
   "source": [
    "#Count the number of each category in each state\n",
    "category_state_counts = museum_df.groupby(['State', 'Category']).size().reset_index(name='Numbers')"
   ]
  },
  {
   "cell_type": "code",
   "execution_count": 77,
   "metadata": {},
   "outputs": [],
   "source": [
    "#Import seaborn for visualization\n",
    "import seaborn as sns"
   ]
  },
  {
   "cell_type": "code",
   "execution_count": 79,
   "metadata": {
    "scrolled": true
   },
   "outputs": [
    {
     "data": {
      "text/plain": [
       "<Axes: xlabel='State', ylabel='Numbers'>"
      ]
     },
     "execution_count": 79,
     "metadata": {},
     "output_type": "execute_result"
    },
    {
     "data": {
      "image/png": "[encoded data removed]",
      "text/plain": [
       "<Figure size 800x500 with 1 Axes>"
      ]
     },
     "metadata": {},
     "output_type": "display_data"
    }
   ],
   "source": [
    "#Draw the scatter plot\n",
    "plt.figure(figsize=(8, 5))\n",
    "sns.scatterplot(x='State', y='Numbers', hue='Category', data=category_state_counts, s=100, palette='viridis', legend='full')"
   ]
  }
 ],
 "metadata": {
  "kernelspec": {
   "display_name": "Python 3 (ipykernel)",
   "language": "python",
   "name": "python3"
  },
  "language_info": {
   "codemirror_mode": {
    "name": "ipython",
    "version": 3
   },
   "file_extension": ".py",
   "mimetype": "text/x-python",
   "name": "python",
   "nbconvert_exporter": "python",
   "pygments_lexer": "ipython3",
   "version": "3.11.4"
  },
  "toc": {
   "base_numbering": 1,
   "nav_menu": {},
   "number_sections": true,
   "sideBar": true,
   "skip_h1_title": false,
   "title_cell": "Table of Contents",
   "title_sidebar": "Contents",
   "toc_cell": false,
   "toc_position": {},
   "toc_section_display": true,
   "toc_window_display": false
  },
  "varInspector": {
   "cols": {
    "lenName": 16,
    "lenType": 16,
    "lenVar": 40
   },
   "kernels_config": {
    "python": {
     "delete_cmd_postfix": "",
     "delete_cmd_prefix": "del ",
     "library": "var_list.py",
     "varRefreshCmd": "print(var_dic_list())"
    },
    "r": {
     "delete_cmd_postfix": ") ",
     "delete_cmd_prefix": "rm(",
     "library": "var_list.r",
     "varRefreshCmd": "cat(var_dic_list()) "
    }
   },
   "types_to_exclude": [
    "module",
    "function",
    "builtin_function_or_method",
    "instance",
    "_Feature"
   ],
   "window_display": false
  }
 },
 "nbformat": 4,
 "nbformat_minor": 4
}
